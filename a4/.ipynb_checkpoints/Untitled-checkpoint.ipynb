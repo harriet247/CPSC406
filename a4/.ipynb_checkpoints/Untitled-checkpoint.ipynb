{
 "cells": [
  {
   "cell_type": "code",
   "execution_count": 1,
   "metadata": {},
   "outputs": [],
   "source": [
    "import numpy as np\n",
    "import cv2\n",
    "import math\n",
    "import random"
   ]
  },
  {
   "cell_type": "code",
   "execution_count": 4,
   "metadata": {},
   "outputs": [
    {
     "data": {
      "text/plain": [
       "[0, 0, 1]"
      ]
     },
     "execution_count": 4,
     "metadata": {},
     "output_type": "execute_result"
    }
   ],
   "source": [
    "num = 5\n",
    "pairs = [[i, i] for i in range(num)]\n",
    "[pairs[0][0],pairs[0][1],1]"
   ]
  },
  {
   "cell_type": "code",
   "execution_count": 18,
   "metadata": {},
   "outputs": [],
   "source": [
    "randomlist = []\n",
    "for c in range(0,4):\n",
    "    n = random.randint(1,4)\n",
    "    randomlist.append(n)\n",
    "    \n",
    "test = np.array([[pairs[i][0], pairs[i][1], 1] for i in randomlist])\n",
    "t=[]\n",
    "for i in range(4):\n",
    "    t.append( [pairs[i][0],pairs[i][1],1])\n",
    "    \n",
    "t = np.array(t)\n",
    "new = np.matmul(test, t.T)\n",
    "for i in range(new.shape[0]):\n",
    "    if new[:,0][i] ==1:\n",
    "        new[:,0][i] +=100\n",
    "    i += 2\n"
   ]
  },
  {
   "cell_type": "code",
   "execution_count": 141,
   "metadata": {},
   "outputs": [
    {
     "ename": "SyntaxError",
     "evalue": "invalid syntax (<ipython-input-141-a1b08b0e1407>, line 2)",
     "output_type": "error",
     "traceback": [
      "\u001b[0;36m  File \u001b[0;32m\"<ipython-input-141-a1b08b0e1407>\"\u001b[0;36m, line \u001b[0;32m2\u001b[0m\n\u001b[0;31m    [ 1  2  8]\u001b[0m\n\u001b[0m         ^\u001b[0m\n\u001b[0;31mSyntaxError\u001b[0m\u001b[0;31m:\u001b[0m invalid syntax\n"
     ]
    }
   ],
   "source": [
    "a = np.array([\n",
    "    [ 1  2  8]\n",
    " [ 1  2  9]\n",
    " [ 1  3  8]\n",
    "[2 2 3]])\n",
    "\n",
    "b = np.array([[ 3,  2,  8],\n",
    " [ 1 , 9 , 9],\n",
    " [ 1,  1 , 8],\n",
    "[7,2,3]])"
   ]
  },
  {
   "cell_type": "code",
   "execution_count": 145,
   "metadata": {},
   "outputs": [
    {
     "data": {
      "text/plain": [
       "array([[0, 0],\n",
       "       [1, 1],\n",
       "       [2, 2],\n",
       "       [3, 3],\n",
       "       [4, 4]])"
      ]
     },
     "execution_count": 145,
     "metadata": {},
     "output_type": "execute_result"
    }
   ],
   "source": [
    "# homo,m= cv2.findHomography(a,b,cv2.RANSAC)\n",
    "# homo\n",
    "np.array(pairs)"
   ]
  }
 ],
 "metadata": {
  "kernelspec": {
   "display_name": "Python 3",
   "language": "python",
   "name": "python3"
  },
  "language_info": {
   "codemirror_mode": {
    "name": "ipython",
    "version": 3
   },
   "file_extension": ".py",
   "mimetype": "text/x-python",
   "name": "python",
   "nbconvert_exporter": "python",
   "pygments_lexer": "ipython3",
   "version": "3.8.5"
  }
 },
 "nbformat": 4,
 "nbformat_minor": 4
}
